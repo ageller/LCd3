{
 "cells": [
  {
   "cell_type": "markdown",
   "metadata": {},
   "source": [
    "# Parse an IPAC table to csv and json for d3\n",
    "\n",
    "*I will want to clean this up later when I decide the exact format for the interactive*"
   ]
  },
  {
   "cell_type": "code",
   "execution_count": 3,
   "metadata": {},
   "outputs": [],
   "source": [
    "from astropy.table import Table\n",
    "import numpy as np\n",
    "import csv\n",
    "import pandas as pd\n",
    "\n",
    "from astropy import units as u\n",
    "from matplotlib import pyplot as plt\n",
    "from astropy.stats import LombScargle\n",
    "from scipy.signal import argrelextrema"
   ]
  },
  {
   "cell_type": "code",
   "execution_count": 4,
   "metadata": {},
   "outputs": [],
   "source": [
    "filename = \"27882110006813.ipac_tbl\"\n",
    "ipac_lc = Table.read(filename, format='ipac')\n",
    "\n",
    "hjd = np.array(ipac_lc[\"obsmjd\"])\n",
    "mag = np.array(ipac_lc[\"mag_autocorr\"])\n",
    "mag_unc = np.array(ipac_lc[\"magerr_auto\"])\n",
    "\n",
    "mmag = np.mean(mag) - mag"
   ]
  },
  {
   "cell_type": "markdown",
   "metadata": {},
   "source": [
    "### Create the periodogram output file"
   ]
  },
  {
   "cell_type": "code",
   "execution_count": 5,
   "metadata": {},
   "outputs": [
    {
     "name": "stdout",
     "output_type": "stream",
     "text": [
      "best period 0.4661477095501411\n",
      "[ 0.46614771  0.93229542  1.39844313  0.87527406  0.3176634   0.87317731\n",
      "  7.01791922  0.31794048  1.16333985  0.24108044  0.53752377  6.88502467\n",
      "  0.24124039  0.58306287 13.77004933  0.36831315  0.48248079  0.325455  ]\n"
     ]
    }
   ],
   "source": [
    "# Note: these are all in units of days\n",
    "############\n",
    "# periodogram and best-fit period\n",
    "pmin = 0.1\n",
    "pmax = 50.\n",
    "ls = LombScargle(hjd, mag)\n",
    "frequency, power = ls.autopower(maximum_frequency=1./pmin, minimum_frequency=1./pmax)\n",
    "best_frequency = frequency[np.argmax(power)]\n",
    "period = 1./frequency\n",
    "best_period = 1./best_frequency\n",
    "print(\"best period\", best_period)\n",
    "\n",
    "############\n",
    "# Get the harmonics f/2, f/3\n",
    "htests = np.array([best_frequency, best_frequency/2., best_frequency/3.])\n",
    "\n",
    "############\n",
    "# Get a few common failures : frequency +/- integers (for a typical 1 day observing cadence) \n",
    "ftests = np.array([])\n",
    "rng = np.array([1, 2])\n",
    "for i in rng:\n",
    "    hm = [htests + i, htests - i]\n",
    "    ftests = np.append(ftests, hm)\n",
    "ftests = np.unique(ftests) #also sorts\n",
    "useit = np.where(ftests > 0)\n",
    "ftests = ftests[useit]\n",
    "\n",
    "############\n",
    "#Simply get some of the top maxima, but exclude any that have a high false-alarm probability\n",
    "spacing = 50 # number of neighboring points to consider for finding relative maxima\n",
    "alarm = 1e-4 # maximum of false alarm probability to accept\n",
    "posall = argrelextrema(power, np.greater, order=spacing)[0] #get all maxima\n",
    "fx = frequency[posall]\n",
    "powx = power[posall]\n",
    "\n",
    "# test the false-alarm probability\n",
    "falarm = ls.false_alarm_probability(powx)\n",
    "useit = np.where(falarm < alarm)\n",
    "ftests2 = fx[useit]\n",
    "\n",
    "\n",
    "############\n",
    "#Sort these in order of importance for the user.  \n",
    "#I will keep the best fit and harmonics first, then append a combined list of these last two sorted by power\n",
    "#Combine the common failures and extra maxima\n",
    "ftAll = np.append(ftests, ftests2)\n",
    "ptAll = np.interp(ftAll, frequency, power)\n",
    "ft, fi = np.unique(ftAll, return_index=True)\n",
    "pt = ptAll[fi]\n",
    "sp = np.argsort(pt)\n",
    "sp = sp[::-1]\n",
    "ft = ft[sp]\n",
    "# remove the harmonics from this list\n",
    "ft1 = np.array([])\n",
    "for f in ft:\n",
    "    test = np.where(htests == f)[0]\n",
    "    if (len(test) == 0):\n",
    "        ft1 = np.append(ft1, f)\n",
    "        \n",
    "# now prepend the harmonics \n",
    "ftest_final = np.append(htests, ft1)\n",
    "ptest_final = 1/ftest_final\n",
    "\n",
    "print(ptest_final)"
   ]
  },
  {
   "cell_type": "markdown",
   "metadata": {},
   "source": [
    "### Write everything to a single json file\n",
    "\n",
    "*And allow for multiple filters; For now I'm just making a mock 2nd filter.  The default in the interactive will be to use the first period for phasing.*"
   ]
  },
  {
   "cell_type": "code",
   "execution_count": 10,
   "metadata": {},
   "outputs": [],
   "source": [
    "outDict = {}\n",
    "filters = ['filt1', 'filt2']\n",
    "outDict['filters'] = filters\n",
    "outDict['multiples'] = [1, 0.5, 2., 3.] #multiplicative factor for the period\n",
    "#outDict['mnames'] = [\"whole period\",\"half the period\",\"twice the period\",\"triple the period\"] #names for the buttons associated with each multiple\n",
    "outDict['mnames'] = [\"whole\",\"half\",\"twice\",\"triple\"] #names for the buttons associated with each multiple\n",
    "\n",
    "outDict['features'] = ['period', 'amplitude'] #any data that should appear in the \"features\" spines\n",
    "outDict['featuresRange'] = [[0.1, 1000], [0.01, 3]] #range for axes \n",
    "outDict['featuresFormat'] = ['log', 'log'] #log vs. linear \n",
    "\n",
    "for f in filters:\n",
    "    outDict[f] = {}\n",
    "#only 1 filter in these data\n",
    "outDict[filters[0]]['color'] = '#DC143C'\n",
    "outDict[filters[0]]['obsmjd'] = hjd - np.min(hjd)\n",
    "outDict[filters[0]]['mag_autocorr_mean'] = mmag\n",
    "outDict[filters[0]]['magerr_auto'] = mag_unc\n",
    "outDict[filters[0]]['period'] = best_period\n",
    "outDict[filters[0]]['amplitude'] = max(outDict[filters[0]]['mag_autocorr_mean']) - min(outDict[filters[0]]['mag_autocorr_mean'])\n",
    "\n",
    "#make a mock 2nd filter to test (at twice the period)\n",
    "Nobs = len(hjd)\n",
    "pfac = 2.2\n",
    "outDict[filters[1]]['color'] = '#4682b4'\n",
    "outDict[filters[1]]['obsmjd'] = np.random.random(size=Nobs)*max(outDict[filters[0]]['obsmjd'])\n",
    "outDict[filters[1]]['mag_autocorr_mean'] = np.sin(2.*np.pi/(pfac*best_period) * outDict[filters[1]]['obsmjd'])\n",
    "outDict[filters[1]]['magerr_auto'] = mag_unc\n",
    "outDict[filters[1]]['period'] = best_period * pfac\n",
    "outDict[filters[1]]['amplitude'] = max(outDict[filters[1]]['mag_autocorr_mean']) - min(outDict[filters[1]]['mag_autocorr_mean'])\n",
    "\n",
    "pd.Series(outDict).to_json(\"27882110006813.json\", orient='index')"
   ]
  },
  {
   "cell_type": "code",
   "execution_count": null,
   "metadata": {},
   "outputs": [],
   "source": []
  },
  {
   "cell_type": "markdown",
   "metadata": {},
   "source": [
    "*Write to a csv file*"
   ]
  },
  {
   "cell_type": "code",
   "execution_count": 3,
   "metadata": {},
   "outputs": [],
   "source": [
    "csvfile = open(\"27882110006813.csv\", 'wt')\n",
    "csvwriter = csv.writer(csvfile)\n",
    "csvwriter.writerow([\"hjd\",\"mag\",\"emag\"])\n",
    "for i in range(len(hjd)):\n",
    "    csvwriter.writerow([hjd[i], mmag[i], mag_unc[i]])\n",
    "csvfile.close()"
   ]
  },
  {
   "cell_type": "code",
   "execution_count": 5,
   "metadata": {},
   "outputs": [],
   "source": [
    "csvfile = open(\"27882110006813_periods.csv\", 'wt')\n",
    "csvwriter = csv.writer(csvfile)\n",
    "csvwriter.writerow([\"period\"])\n",
    "for i in range(len(ptest_final)):\n",
    "    csvwriter.writerow([ptest_final[i]])\n",
    "csvfile.close()"
   ]
  }
 ],
 "metadata": {
  "kernelspec": {
   "display_name": "Python 3",
   "language": "python",
   "name": "python3"
  },
  "language_info": {
   "codemirror_mode": {
    "name": "ipython",
    "version": 3
   },
   "file_extension": ".py",
   "mimetype": "text/x-python",
   "name": "python",
   "nbconvert_exporter": "python",
   "pygments_lexer": "ipython3",
   "version": "3.6.4"
  }
 },
 "nbformat": 4,
 "nbformat_minor": 2
}
