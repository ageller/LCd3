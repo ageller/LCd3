{
 "cells": [
  {
   "cell_type": "markdown",
   "metadata": {},
   "source": [
    "# Parse an IPAC table to csv for d3"
   ]
  },
  {
   "cell_type": "code",
   "execution_count": 3,
   "metadata": {},
   "outputs": [],
   "source": [
    "from astropy.table import Table\n",
    "import numpy as np\n",
    "import csv"
   ]
  },
  {
   "cell_type": "code",
   "execution_count": 4,
   "metadata": {},
   "outputs": [],
   "source": [
    "filename = \"27882110006813.ipac_tbl\"\n",
    "ipac_lc = Table.read(filename, format='ipac')\n",
    "\n",
    "hjd = np.array(ipac_lc[\"obsmjd\"])\n",
    "mag = np.array(ipac_lc[\"mag_autocorr\"])\n",
    "mag_unc = np.array(ipac_lc[\"magerr_auto\"])\n",
    "\n",
    "mmag = np.mean(mag) - mag"
   ]
  },
  {
   "cell_type": "code",
   "execution_count": 6,
   "metadata": {},
   "outputs": [],
   "source": [
    "csvfile = open(\"27882110006813.csv\", 'wt')\n",
    "csvwriter = csv.writer(csvfile)\n",
    "csvwriter.writerow([\"hjd\",\"mag\",\"emag\"])\n",
    "for i in range(len(hjd)):\n",
    "    csvwriter.writerow([hjd[i], mmag[i], mag_unc[i]])\n",
    "csvfile.close()"
   ]
  },
  {
   "cell_type": "markdown",
   "metadata": {},
   "source": [
    "### Create the periodogram and output file"
   ]
  },
  {
   "cell_type": "code",
   "execution_count": null,
   "metadata": {},
   "outputs": [],
   "source": []
  }
 ],
 "metadata": {
  "kernelspec": {
   "display_name": "Python 3",
   "language": "python",
   "name": "python3"
  },
  "language_info": {
   "codemirror_mode": {
    "name": "ipython",
    "version": 3
   },
   "file_extension": ".py",
   "mimetype": "text/x-python",
   "name": "python",
   "nbconvert_exporter": "python",
   "pygments_lexer": "ipython3",
   "version": "3.6.4"
  }
 },
 "nbformat": 4,
 "nbformat_minor": 2
}
