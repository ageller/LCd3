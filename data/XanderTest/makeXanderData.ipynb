{
 "cells": [
  {
   "cell_type": "markdown",
   "metadata": {},
   "source": [
    "# Data files from Xander's tests stars"
   ]
  },
  {
   "cell_type": "code",
   "execution_count": 20,
   "metadata": {},
   "outputs": [],
   "source": [
    "import pandas as pd\n",
    "from astropy.io import fits\n",
    "from astropy.table import Table\n",
    "import numpy as np\n",
    "from astropy.stats import sigma_clip\n",
    "\n",
    "#my code to write the file needed for my viewer\n",
    "from dataToJson import dataToJson"
   ]
  },
  {
   "cell_type": "code",
   "execution_count": 2,
   "metadata": {},
   "outputs": [],
   "source": [
    "#Xander's code\n",
    "Atlas_LC = Table(fits.getdata(r\"All_Big_Macc_LC_Data_xhall.fit\"))\n",
    "Directory_File = Table.read(\"Aaron_Stars_5.csv\")\n",
    "def get_lcdata_from_objid(objid):\n",
    "    objid = int(objid)\n",
    "    observations = Atlas_LC[np.where(objid == Atlas_LC[\"objid\"])[0]]\n",
    "    hjd = np.array(observations['mjd'])\n",
    "    mag = np.array(observations['m'])\n",
    "    mag_unc = np.array(observations['dm'])\n",
    "    filters = np.array([byte for byte in observations['filter']])\n",
    "    return hjd, mag, mag_unc, filters"
   ]
  },
  {
   "cell_type": "code",
   "execution_count": 59,
   "metadata": {},
   "outputs": [
    {
     "name": "stdout",
     "output_type": "stream",
     "text": [
      "37.json\n",
      "182.json\n",
      "180.json\n",
      "2.json\n",
      "210.json\n",
      "791.json\n",
      "154.json\n"
     ]
    }
   ],
   "source": [
    "#set up the data\n",
    "for i in range(len(Directory_File)):\n",
    "    fname = str(Directory_File[\"Xid\"][i])+'.json'\n",
    "    print(fname)\n",
    "\n",
    "    #filter names (not visible in interactive, but should be unique strings)\n",
    "    filterNames = ['c', 'o']\n",
    "\n",
    "    #colors for data in each filter\n",
    "    colors = ['#3dcfcf','#f88b1b']\n",
    "\n",
    "    #symbols for each filter\n",
    "    # the following are available Circle, Cross, Diamond, Square, Star, Triangle, Wye\n",
    "    # NOTE: these may be case sensitive\n",
    "    symbols = ['Circle', 'Cross']\n",
    "\n",
    "    #sizes for the symbols\n",
    "    sizes = [40, 40]\n",
    "\n",
    "    #best fit periods for each filter (in the same order as filterNames)\n",
    "    periods = [Directory_File[\"c_period\"][i], Directory_File[\"o_period\"][i]]\n",
    "\n",
    "    #CMD data (dummy data for now)\n",
    "    #for percentiles, all lists must be ordered in the same way (either small to large or large to small)\n",
    "    CMDdata = dict()\n",
    "    CMDdata['color'] = Directory_File[\"b_band\"][i] - Directory_File[\"r_band\"][i] \n",
    "    CMDdata['mag'] = Directory_File[\"g_band\"][i] - (5.*np.log10(Directory_File[\"rest\"][i]/10.))\n",
    "    CMDdata['magPplus'] = [np.abs(CMDdata['mag'] - (Directory_File[\"g_band\"][i] - (5.*np.log10(Directory_File[\"neg3sig\"][i]/10.)))), \n",
    "                           np.abs(CMDdata['mag'] - (Directory_File[\"g_band\"][i] - (5.*np.log10(Directory_File[\"neg2sig\"][i]/10.)))), \n",
    "                           np.abs(CMDdata['mag'] - (Directory_File[\"g_band\"][i] - (5.*np.log10(Directory_File[\"neg1sig\"][i]/10.)))) ]\n",
    "    CMDdata['magPminus'] = [np.abs(CMDdata['mag'] - (Directory_File[\"g_band\"][i] - (5.*np.log10(Directory_File[\"pos3sig\"][i]/10.)))),  \n",
    "                            np.abs(CMDdata['mag'] - (Directory_File[\"g_band\"][i] - (5.*np.log10(Directory_File[\"pos2sig\"][i]/10.)))), \n",
    "                            np.abs(CMDdata['mag'] - (Directory_File[\"g_band\"][i] - (5.*np.log10(Directory_File[\"pos1sig\"][i]/10.))))]\n",
    "    #this is not correct\n",
    "    CMDdata['colorPplus'] = [Directory_File[\"b_minus_r_error\"][i]*3., \n",
    "                             Directory_File[\"b_minus_r_error\"][i]*2., \n",
    "                             Directory_File[\"b_minus_r_error\"][i]]\n",
    "    CMDdata['colorPminus'] = [Directory_File[\"b_minus_r_error\"][i]*3., \n",
    "                              Directory_File[\"b_minus_r_error\"][i]*2., \n",
    "                              Directory_File[\"b_minus_r_error\"][i]]\n",
    "    CMDdata['cs'] = [\"#defafa\",\"#3dcfcf\",\"#2c3a83\"]\n",
    "\n",
    "    #light curve data, combined into dict\n",
    "    fromFits = get_lcdata_from_objid((Directory_File[\"Atlas_ObjID\"][i]))\n",
    "    LCdata = dict()\n",
    "    fData0 = np.where(fromFits[3] == filterNames[0])\n",
    "    mMean = np.mean(fromFits[1][fData0])\n",
    "    for f in filterNames:\n",
    "        fData = np.where(fromFits[3] == f)\n",
    "        LCdata[f] = dict()\n",
    "        mag = fromFits[1][fData]\n",
    "        hjd = fromFits[0][fData]\n",
    "        err = fromFits[2][fData]\n",
    "        \n",
    "        meanErr = np.mean(err)\n",
    "        #sigma clipping, like Nick did\n",
    "        #outside = np.logical_or(np.logical_or((mag < 4),(mag > 30)), (err > 5*meanErr))\n",
    "        outside = np.logical_or((mag < 4),(mag > 30))\n",
    "        clipped_obs = np.copy(outside)\n",
    "        clipped_obs[~outside] = sigma_clip(mag[~outside], sigma=5, maxiters=1).mask\n",
    "    \n",
    "   \n",
    "        LCdata[f]['hjd'] = hjd[~clipped_obs]\n",
    "        LCdata[f]['mag'] = mMean - mag[~clipped_obs]\n",
    "        LCdata[f]['err'] = err[~clipped_obs]\n",
    "\n",
    "    #create the output json\n",
    "    dataToJson(filterNames, colors, symbols, sizes, CMDdata, LCdata, periods, filename=fname)\n"
   ]
  },
  {
   "cell_type": "code",
   "execution_count": 5,
   "metadata": {},
   "outputs": [],
   "source": [
    "import matplotlib.pyplot as plt"
   ]
  },
  {
   "cell_type": "code",
   "execution_count": 51,
   "metadata": {},
   "outputs": [
    {
     "name": "stdout",
     "output_type": "stream",
     "text": [
      "210\n",
      "170 170 170 170 0\n",
      "160 160 160 160 1\n"
     ]
    },
    {
     "data": {
      "image/png": "[encoded data removed]",
      "text/plain": [
       "<Figure size 432x288 with 1 Axes>"
      ]
     },
     "metadata": {
      "needs_background": "light"
     },
     "output_type": "display_data"
    }
   ],
   "source": [
    "i=4\n",
    "print(Directory_File[\"Xid\"][i])\n",
    "fromFits = get_lcdata_from_objid((Directory_File[\"Atlas_ObjID\"][i]))\n",
    "periods = [Directory_File[\"c_period\"][i], Directory_File[\"o_period\"][i]]\n",
    "\n",
    "f, ax = plt.subplots()\n",
    "for i,f in enumerate(filterNames):\n",
    "    fData = np.where(fromFits[3] == f)\n",
    "    mag = fromFits[1][fData]\n",
    "    hjd = fromFits[0][fData]\n",
    "    \n",
    "    outside = np.logical_or((mag < 4),(mag > 30))\n",
    "    clipped_obs = np.copy(outside)\n",
    "    clipped_obs[~outside] = sigma_clip(mag[~outside], sigma=5, maxiters=1).mask\n",
    "    print(len(clipped_obs), len(outside), len(mag), len(mag[~outside]), len(mag[clipped_obs]))\n",
    "    \n",
    "    ax.plot(hjd[~clipped_obs] % periods[0],np.mean(mag[~clipped_obs]) - mag[~clipped_obs],'o',color=colors[i])\n",
    "    #ax.plot(fromFits[0][fData], np.mean(fromFits[1][fData]) - fromFits[1][fData] ,'o',color=colors[i])\n"
   ]
  },
  {
   "cell_type": "code",
   "execution_count": null,
   "metadata": {},
   "outputs": [],
   "source": []
  }
 ],
 "metadata": {
  "kernelspec": {
   "display_name": "Python 3",
   "language": "python",
   "name": "python3"
  },
  "language_info": {
   "codemirror_mode": {
    "name": "ipython",
    "version": 3
   },
   "file_extension": ".py",
   "mimetype": "text/x-python",
   "name": "python",
   "nbconvert_exporter": "python",
   "pygments_lexer": "ipython3",
   "version": "3.7.3"
  }
 },
 "nbformat": 4,
 "nbformat_minor": 2
}
